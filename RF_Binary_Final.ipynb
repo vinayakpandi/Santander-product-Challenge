{
  "nbformat": 4,
  "nbformat_minor": 0,
  "metadata": {
    "colab": {
      "name": "FINAL_RandomForest (1).ipynb",
      "provenance": [],
      "collapsed_sections": []
    },
    "kernelspec": {
      "display_name": "Python 3",
      "language": "python",
      "name": "python3"
    },
    "language_info": {
      "codemirror_mode": {
        "name": "ipython",
        "version": 3
      },
      "file_extension": ".py",
      "mimetype": "text/x-python",
      "name": "python",
      "nbconvert_exporter": "python",
      "pygments_lexer": "ipython3",
      "version": "3.7.6"
    }
  },
  "cells": [
    {
      "cell_type": "markdown",
      "metadata": {
        "id": "ngcQVvvPgrOl",
        "colab_type": "text"
      },
      "source": [
        "# Importing required packages"
      ]
    },
    {
      "cell_type": "code",
      "metadata": {
        "colab_type": "code",
        "id": "lqPof-xvL-hZ",
        "colab": {}
      },
      "source": [
        "# !pip install emoji\n",
        "# !pip install colorama\n",
        "import emoji\n",
        "import pandas as pd\n",
        "import re\n",
        "import io\n",
        "import itertools\n",
        "import numpy as np\n",
        "from sklearn.model_selection import train_test_split, GridSearchCV, cross_val_score, StratifiedKFold\n",
        "from sklearn.feature_extraction.text import TfidfVectorizer, CountVectorizer\n",
        "from sklearn.base import BaseEstimator, TransformerMixin\n",
        "from sklearn.model_selection import train_test_split\n",
        "from sklearn.ensemble import RandomForestClassifier\n",
        "from sklearn.pipeline import Pipeline, FeatureUnion\n",
        "import matplotlib.pyplot as plt\n",
        "from sklearn import metrics\n",
        "from google.colab import drive\n",
        "import seaborn as sns\n",
        "from colorama import Fore,Back,Style\n",
        "import nltk\n",
        "import pickle\n"
      ],
      "execution_count": 2,
      "outputs": []
    },
    {
      "cell_type": "code",
      "metadata": {
        "id": "qSCCoXIfh9If",
        "colab_type": "code",
        "colab": {
          "base_uri": "https://localhost:8080/",
          "height": 122
        },
        "outputId": "f787483c-a091-498f-bab7-c21b11c0b73f"
      },
      "source": [
        "drive.mount('/content/drive')\n",
        "path2 = '/content/drive/My Drive/Colab/FINAL.csv'"
      ],
      "execution_count": 6,
      "outputs": [
        {
          "output_type": "stream",
          "text": [
            "Go to this URL in a browser: https://accounts.google.com/o/oauth2/auth?client_id=947318989803-6bn6qk8qdgf4n4g3pfee6491hc0brc4i.apps.googleusercontent.com&redirect_uri=urn%3aietf%3awg%3aoauth%3a2.0%3aoob&response_type=code&scope=email%20https%3a%2f%2fwww.googleapis.com%2fauth%2fdocs.test%20https%3a%2f%2fwww.googleapis.com%2fauth%2fdrive%20https%3a%2f%2fwww.googleapis.com%2fauth%2fdrive.photos.readonly%20https%3a%2f%2fwww.googleapis.com%2fauth%2fpeopleapi.readonly\n",
            "\n",
            "Enter your authorization code:\n",
            "··········\n",
            "Mounted at /content/drive\n"
          ],
          "name": "stdout"
        }
      ]
    },
    {
      "cell_type": "markdown",
      "metadata": {
        "id": "6PytftOBueoz",
        "colab_type": "text"
      },
      "source": [
        "# Data Preprocessing"
      ]
    },
    {
      "cell_type": "code",
      "metadata": {
        "id": "vFUEy4wFig7r",
        "colab_type": "code",
        "colab": {
          "base_uri": "https://localhost:8080/",
          "height": 462
        },
        "outputId": "cf3d75c2-b452-4198-99c4-44db29de63be"
      },
      "source": [
        "#df_t = pd.read_csv('FINAL.csv',encoding= 'unicode_escape')\n",
        "df_t = pd.read_csv(path2,encoding= 'unicode_escape')\n",
        "df_t = df_t.head(517)\n",
        "cols = ['favourites_count','retweet_count','followers_count','friends_count']\n",
        "df_t[cols] = df_t[cols].fillna(0)\n",
        "df_t[cols] = df_t[cols].astype(int)\n",
        "#df_t.drop(['rumor_veracity'], axis = 1, inplace = True) \n",
        "df_t = pd.get_dummies(df_t, columns=['source','is_quote', 'verified'], drop_first=True)\n",
        "from sklearn.preprocessing import LabelEncoder\n",
        "le = LabelEncoder()\n",
        "df_t['is_rumor'] = le.fit_transform(df_t['is_rumor'])\n",
        "df_t['rumor_veracity'] = le.fit_transform(df_t['rumor_veracity'])\n",
        "df_t[\"created_at\"]= pd.to_datetime(df_t[\"created_at\"])\n",
        "df_t[\"account_created_at\"]= pd.to_datetime(df_t[\"account_created_at\"])\n",
        "df_t[\"created_at\"] = df_t[\"created_at\"].dt.day\n",
        "df_t[\"account_created_at\"] = df_t[\"account_created_at\"].dt.year\n",
        "df_t.rename(columns = {'source_Twitter Media Studio':'src_tms', 'source_Twitter Web App':'src_twa','source_Twitter Web Client':'src_twc','source_Twitter for Android':'src_twan', 'source_Twitter for iPhone':'src_twi' }, inplace = True)\n",
        "df_t.head()"
      ],
      "execution_count": 7,
      "outputs": [
        {
          "output_type": "execute_result",
          "data": {
            "text/html": [
              "<div>\n",
              "<style scoped>\n",
              "    .dataframe tbody tr th:only-of-type {\n",
              "        vertical-align: middle;\n",
              "    }\n",
              "\n",
              "    .dataframe tbody tr th {\n",
              "        vertical-align: top;\n",
              "    }\n",
              "\n",
              "    .dataframe thead th {\n",
              "        text-align: right;\n",
              "    }\n",
              "</style>\n",
              "<table border=\"1\" class=\"dataframe\">\n",
              "  <thead>\n",
              "    <tr style=\"text-align: right;\">\n",
              "      <th></th>\n",
              "      <th>created_at</th>\n",
              "      <th>text</th>\n",
              "      <th>favourites_count</th>\n",
              "      <th>retweet_count</th>\n",
              "      <th>followers_count</th>\n",
              "      <th>friends_count</th>\n",
              "      <th>account_created_at</th>\n",
              "      <th>is_rumor</th>\n",
              "      <th>rumor_veracity</th>\n",
              "      <th>src_tms</th>\n",
              "      <th>src_twa</th>\n",
              "      <th>src_twc</th>\n",
              "      <th>src_twan</th>\n",
              "      <th>src_twi</th>\n",
              "      <th>is_quote_True</th>\n",
              "      <th>verified_True</th>\n",
              "    </tr>\n",
              "  </thead>\n",
              "  <tbody>\n",
              "    <tr>\n",
              "      <th>0</th>\n",
              "      <td>20</td>\n",
              "      <td>There was no widespread testing then, and ther...</td>\n",
              "      <td>6350</td>\n",
              "      <td>2427</td>\n",
              "      <td>181435</td>\n",
              "      <td>3593</td>\n",
              "      <td>2010</td>\n",
              "      <td>0</td>\n",
              "      <td>3</td>\n",
              "      <td>0</td>\n",
              "      <td>0</td>\n",
              "      <td>0</td>\n",
              "      <td>0</td>\n",
              "      <td>1</td>\n",
              "      <td>1</td>\n",
              "      <td>1</td>\n",
              "    </tr>\n",
              "    <tr>\n",
              "      <th>1</th>\n",
              "      <td>20</td>\n",
              "      <td>53 journalists in Mumbai tested positive for #...</td>\n",
              "      <td>0</td>\n",
              "      <td>2059</td>\n",
              "      <td>3875514</td>\n",
              "      <td>0</td>\n",
              "      <td>2011</td>\n",
              "      <td>0</td>\n",
              "      <td>3</td>\n",
              "      <td>0</td>\n",
              "      <td>0</td>\n",
              "      <td>1</td>\n",
              "      <td>0</td>\n",
              "      <td>0</td>\n",
              "      <td>0</td>\n",
              "      <td>1</td>\n",
              "    </tr>\n",
              "    <tr>\n",
              "      <th>2</th>\n",
              "      <td>20</td>\n",
              "      <td>.@SecPompeo: The Chinese Government needs to c...</td>\n",
              "      <td>27</td>\n",
              "      <td>2493</td>\n",
              "      <td>5779892</td>\n",
              "      <td>455</td>\n",
              "      <td>2007</td>\n",
              "      <td>0</td>\n",
              "      <td>3</td>\n",
              "      <td>1</td>\n",
              "      <td>0</td>\n",
              "      <td>0</td>\n",
              "      <td>0</td>\n",
              "      <td>0</td>\n",
              "      <td>0</td>\n",
              "      <td>1</td>\n",
              "    </tr>\n",
              "    <tr>\n",
              "      <th>3</th>\n",
              "      <td>20</td>\n",
              "      <td>I am not a doctor by any stretch of the imagin...</td>\n",
              "      <td>19250</td>\n",
              "      <td>8267</td>\n",
              "      <td>2162197</td>\n",
              "      <td>18</td>\n",
              "      <td>2017</td>\n",
              "      <td>0</td>\n",
              "      <td>3</td>\n",
              "      <td>0</td>\n",
              "      <td>0</td>\n",
              "      <td>0</td>\n",
              "      <td>0</td>\n",
              "      <td>1</td>\n",
              "      <td>0</td>\n",
              "      <td>1</td>\n",
              "    </tr>\n",
              "    <tr>\n",
              "      <th>4</th>\n",
              "      <td>20</td>\n",
              "      <td>Thank you to our #Swiss friends for this beaut...</td>\n",
              "      <td>10</td>\n",
              "      <td>2393</td>\n",
              "      <td>1691123</td>\n",
              "      <td>50</td>\n",
              "      <td>2018</td>\n",
              "      <td>0</td>\n",
              "      <td>3</td>\n",
              "      <td>0</td>\n",
              "      <td>1</td>\n",
              "      <td>0</td>\n",
              "      <td>0</td>\n",
              "      <td>0</td>\n",
              "      <td>1</td>\n",
              "      <td>1</td>\n",
              "    </tr>\n",
              "  </tbody>\n",
              "</table>\n",
              "</div>"
            ],
            "text/plain": [
              "   created_at  ... verified_True\n",
              "0          20  ...             1\n",
              "1          20  ...             1\n",
              "2          20  ...             1\n",
              "3          20  ...             1\n",
              "4          20  ...             1\n",
              "\n",
              "[5 rows x 16 columns]"
            ]
          },
          "metadata": {
            "tags": []
          },
          "execution_count": 7
        }
      ]
    },
    {
      "cell_type": "markdown",
      "metadata": {
        "id": "VnIVtk3GgrPA",
        "colab_type": "text"
      },
      "source": [
        "# Defining  different steps in pipeline"
      ]
    },
    {
      "cell_type": "markdown",
      "metadata": {
        "id": "Xl4v3ORAgrPC",
        "colab_type": "text"
      },
      "source": [
        "## TextPreprocessor"
      ]
    },
    {
      "cell_type": "code",
      "metadata": {
        "id": "hC4EWnIdgrPE",
        "colab_type": "code",
        "colab": {}
      },
      "source": [
        "#import contractions list and remove it in the next step\n",
        "# https://www.kaggle.com/latong/lstm-vs-bert-train-data-from-scratch-huggingface\n",
        "# A list of contractions from http://stackoverflow.com/questions/19790188/expanding-english-language-contractions-in-python\n",
        "contractions = { \n",
        "\"ain't\": \"am not\",\n",
        "\"aren't\": \"are not\",\n",
        "\"can't\": \"cannot\",\n",
        "\"can't've\": \"cannot have\",\n",
        "\"'cause\": \"because\",\n",
        "\"could've\": \"could have\",\n",
        "\"couldn't\": \"could not\",\n",
        "\"couldn't've\": \"could not have\",\n",
        "\"didn't\": \"did not\",\n",
        "\"doesn't\": \"does not\",\n",
        "\"don't\": \"do not\",\n",
        "\"hadn't\": \"had not\",\n",
        "\"hadn't've\": \"had not have\",\n",
        "\"hasn't\": \"has not\",\n",
        "\"haven't\": \"have not\",\n",
        "\"he'd\": \"he would\",\n",
        "\"he'd've\": \"he would have\",\n",
        "\"he'll\": \"he will\",\n",
        "\"he's\": \"he is\",\n",
        "\"how'd\": \"how did\",\n",
        "\"how'll\": \"how will\",\n",
        "\"how's\": \"how is\",\n",
        "\"i'd\": \"i would\",\n",
        "\"i'll\": \"i will\",\n",
        "\"i'm\": \"i am\",\n",
        "\"i've\": \"i have\",\n",
        "\"isn't\": \"is not\",\n",
        "\"it'd\": \"it would\",\n",
        "\"it'll\": \"it will\",\n",
        "\"it's\": \"it is\",\n",
        "\"let's\": \"let us\",\n",
        "\"ma'am\": \"madam\",\n",
        "\"mayn't\": \"may not\",\n",
        "\"might've\": \"might have\",\n",
        "\"mightn't\": \"might not\",\n",
        "\"must've\": \"must have\",\n",
        "\"mustn't\": \"must not\",\n",
        "\"needn't\": \"need not\",\n",
        "\"oughtn't\": \"ought not\",\n",
        "\"shan't\": \"shall not\",\n",
        "\"sha'n't\": \"shall not\",\n",
        "\"she'd\": \"she would\",\n",
        "\"she'll\": \"she will\",\n",
        "\"she's\": \"she is\",\n",
        "\"should've\": \"should have\",\n",
        "\"shouldn't\": \"should not\",\n",
        "\"that'd\": \"that would\",\n",
        "\"that's\": \"that is\",\n",
        "\"there'd\": \"there had\",\n",
        "\"there's\": \"there is\",\n",
        "\"they'd\": \"they would\",\n",
        "\"they'll\": \"they will\",\n",
        "\"they're\": \"they are\",\n",
        "\"they've\": \"they have\",\n",
        "\"wasn't\": \"was not\",\n",
        "\"we'd\": \"we would\",\n",
        "\"we'll\": \"we will\",\n",
        "\"we're\": \"we are\",\n",
        "\"we've\": \"we have\",\n",
        "\"weren't\": \"were not\",\n",
        "\"what'll\": \"what will\",\n",
        "\"what're\": \"what are\",\n",
        "\"what's\": \"what is\",\n",
        "\"what've\": \"what have\",\n",
        "\"where'd\": \"where did\",\n",
        "\"where's\": \"where is\",\n",
        "\"who'll\": \"who will\",\n",
        "\"who's\": \"who is\",\n",
        "\"won't\": \"will not\",\n",
        "\"wouldn't\": \"would not\",\n",
        "\"you'd\": \"you would\",\n",
        "\"you'll\": \"you will\",\n",
        "\"you're\": \"you are\",\n",
        "\"thx\"   : \"thanks\",\n",
        "\"ain’t\": \"am not\",\n",
        "\"aren’t\": \"are not\",\n",
        "\"can’t\": \"cannot\",\n",
        "\"can’t’ve\": \"cannot have\",\n",
        "\"could’ve\": \"could have\",\n",
        "\"couldn’t\": \"could not\",\n",
        "\"couldn’t’ve\": \"could not have\",\n",
        "\"didn’t\": \"did not\",\n",
        "\"doesn’t\": \"does not\",\n",
        "\"don’t\": \"do not\",\n",
        "\"hadn’t\": \"had not\",\n",
        "\"hadn’t’ve\": \"had not have\",\n",
        "\"hasn’t\": \"has not\",\n",
        "\"haven’t\": \"have not\",\n",
        "\"he’d\": \"he would\",\n",
        "\"he’d’ve\": \"he would have\",\n",
        "\"he’ll\": \"he will\",\n",
        "\"he’s\": \"he is\",\n",
        "\"how’d\": \"how did\",\n",
        "\"how’ll\": \"how will\",\n",
        "\"how’s\": \"how is\",\n",
        "\"i’d\": \"i would\",\n",
        "\"i’ll\": \"i will\",\n",
        "\"i’m\": \"i am\",\n",
        "\"i’ve\": \"i have\",\n",
        "\"isn’t\": \"is not\",\n",
        "\"it’d\": \"it would\",\n",
        "\"it’ll\": \"it will\",\n",
        "\"it’s\": \"it is\",\n",
        "\"let’s\": \"let us\",\n",
        "\"ma’am\": \"madam\",\n",
        "\"mayn’t\": \"may not\",\n",
        "\"might’ve\": \"might have\",\n",
        "\"mightn’t\": \"might not\",\n",
        "\"must’ve\": \"must have\",\n",
        "\"mustn’t\": \"must not\",\n",
        "\"needn’t\": \"need not\",\n",
        "\"oughtn’t\": \"ought not\",\n",
        "\"shan’t\": \"shall not\",\n",
        "\"sha’n’t\": \"shall not\",\n",
        "\"she’d\": \"she would\",\n",
        "\"she’ll\": \"she will\",\n",
        "\"she’s\": \"she is\",\n",
        "\"should’ve\": \"should have\",\n",
        "\"shouldn’t\": \"should not\",\n",
        "\"that’d\": \"that would\",\n",
        "\"that’s\": \"that is\",\n",
        "\"there’d\": \"there had\",\n",
        "\"there’s\": \"there is\",\n",
        "\"they’d\": \"they would\",\n",
        "\"they’ll\": \"they will\",\n",
        "\"they’re\": \"they are\",\n",
        "\"they’ve\": \"they have\",\n",
        "\"wasn’t\": \"was not\",\n",
        "\"we’d\": \"we would\",\n",
        "\"we’ll\": \"we will\",\n",
        "\"we’re\": \"we are\",\n",
        "\"we’ve\": \"we have\",\n",
        "\"weren’t\": \"were not\",\n",
        "\"what’ll\": \"what will\",\n",
        "\"what’re\": \"what are\",\n",
        "\"what’s\": \"what is\",\n",
        "\"what’ve\": \"what have\",\n",
        "\"where’d\": \"where did\",\n",
        "\"where’s\": \"where is\",\n",
        "\"who’ll\": \"who will\",\n",
        "\"who’s\": \"who is\",\n",
        "\"won’t\": \"will not\",\n",
        "\"wouldn’t\": \"would not\",\n",
        "\"you’d\": \"you would\",\n",
        "\"you’ll\": \"you will\",\n",
        "\"you’re\": \"you are\"\n",
        "}\n",
        "\n",
        "def expand_contractions(text):\n",
        "    tokens=text.split()\n",
        "    expanded_tokens=[contractions[token.lower()] if token.lower() in contractions.keys() else token for token in tokens] \n",
        "    return ' '.join(expanded_tokens)\n",
        "\n",
        "def give_emoji_free_text(text):\n",
        "    return emoji.get_emoji_regexp().sub(r'', text)\n",
        "\n",
        "emoticons_str = r\"\"\"\n",
        "    (?:\n",
        "        [:=;] # Eyes\n",
        "        [oO\\-]? # Nose (optional)\n",
        "        [D\\)\\]\\(\\]/\\\\OpP] # Mouth\n",
        "    )\"\"\"\n",
        "\n",
        "regex_str = [\n",
        "    emoticons_str,\n",
        "    r'<[^>]+>', # HTML tags\n",
        "    r'(?:@[\\w_]+)', # @-mentions\n",
        "    r\"(?:\\#+[\\w_]+[\\w\\'_\\-]*[\\w_]+)\", # hash-tags\n",
        "    r'http[s]?://(?:[a-z]|[0-9]|[$-_@.&+]|[!*\\(\\),]|(?:%[0-9a-f][0-9a-f]))+', # URLs\n",
        " \n",
        "    r'(?:(?:\\d+,?)+(?:\\.?\\d+)?)', # numbers\n",
        "]\n",
        "'''\n",
        "    r\"(?:[a-z][a-z'\\-_]+[a-z])\", # words with - and '\n",
        "    r'(?:[\\w_]+)', # other words\n",
        "    r'(?:\\S)' # anything else\n",
        "'''\n",
        "    \n",
        "tokens_re = re.compile(r'('+'|'.join(regex_str)+')', re.VERBOSE | re.IGNORECASE)\n",
        "\n",
        "def preprocess_text(text):\n",
        "    text= tokens_re.sub(r'', text)   \n",
        "    text = re.sub(r'\\s\\s+','', text)\n",
        "    text = re.sub(r'[ ]{2, }',' ',text)\n",
        "    return text\n",
        "\n",
        "df_t['text'] = df_t.text.str.replace(r'http\\S+', r'')\n",
        "df_t['text'] = df_t.text.str.replace(r'@', r'')\n",
        "df_t['text'] = df_t.text.str.replace(r'#', r'')\n",
        "\n",
        "a1 = []\n",
        "for index,row in df_t.iterrows():\n",
        "  a = row['text']\n",
        "  a = expand_contractions(a)\n",
        "  a1.append(a)\n",
        "df_t['text'] = a1\n",
        "\n",
        "a2 = []\n",
        "for index,row in df_t.iterrows():\n",
        "  b = row['text']\n",
        "  b = give_emoji_free_text(b)\n",
        "  a2.append(b)\n",
        "df_t['text'] = a2\n",
        "\n",
        "a3 = []\n",
        "for index,row in df_t.iterrows():\n",
        "  c = row['text']\n",
        "  c = preprocess_text(c)\n",
        "  a3.append(c)\n",
        "df_t['text'] = a3"
      ],
      "execution_count": 9,
      "outputs": []
    },
    {
      "cell_type": "markdown",
      "metadata": {
        "id": "uZpSXz8BgrPO",
        "colab_type": "text"
      },
      "source": [
        "## Pipeline"
      ]
    },
    {
      "cell_type": "code",
      "metadata": {
        "id": "jLbBXE59grPP",
        "colab_type": "code",
        "colab": {}
      },
      "source": [
        "# text and numeric classes \n",
        "class TextTransformer(BaseEstimator, TransformerMixin):\n",
        "    \"\"\"\n",
        "    Transform text features\n",
        "    \"\"\"\n",
        "    def __init__(self, key):\n",
        "        self.key = key\n",
        "\n",
        "    def fit(self, X, y=None, *parg, **kwarg):\n",
        "        return self\n",
        "\n",
        "    def transform(self, X):\n",
        "        return X[self.key]\n",
        "    \n",
        "class NumberTransformer(BaseEstimator, TransformerMixin):\n",
        "    \"\"\"\n",
        "    Transform numeric features\n",
        "    \"\"\"\n",
        "    def __init__(self, key):\n",
        "        self.key = key\n",
        "\n",
        "    def fit(self, X, y=None):\n",
        "        return self\n",
        "\n",
        "    def transform(self, X):\n",
        "        return X[[self.key]]\n",
        "      \n",
        "# read in your dataframe\n",
        "\n",
        "\n",
        "# use the term-frequency inverse document frequency vectorizer to transform count of text\n",
        "# into a weighed matrix of term importance\n",
        "vec_tdidf = TfidfVectorizer(ngram_range=(1,2), analyzer='word', norm='l2')\n",
        "\n",
        "# compile both the TextTransformer and TfidfVectorizer \n",
        "# to the text features\n",
        "text = Pipeline([\n",
        "                ('transformer', TextTransformer(key='text')),\n",
        "                ('vectorizer', vec_tdidf)\n",
        "                ])\n",
        "\n",
        "\n",
        "# compile the NumberTransformer\n",
        "# to the numeric features\n",
        "created_at = Pipeline([\n",
        "                ('transformer', NumberTransformer(key='created_at')),\n",
        "                ])\n",
        "favourites_count = Pipeline([\n",
        "                ('transformer', NumberTransformer(key='favourites_count')),\n",
        "                ])\n",
        "retweet_count = Pipeline([\n",
        "                ('transformer', NumberTransformer(key='retweet_count')),\n",
        "                ])\n",
        "followers_count = Pipeline([\n",
        "                ('transformer', NumberTransformer(key='followers_count')),\n",
        "                ])\n",
        "friends_count = Pipeline([\n",
        "                ('transformer', NumberTransformer(key='friends_count')),\n",
        "                ])\n",
        "account_created_at = Pipeline([\n",
        "                ('transformer', NumberTransformer(key='account_created_at')),\n",
        "                ])\n",
        "src_tms = Pipeline([\n",
        "                ('transformer', NumberTransformer(key='src_tms')),\n",
        "                ])\n",
        "src_twa = Pipeline([\n",
        "                ('transformer', NumberTransformer(key='src_twa')),\n",
        "                ])\n",
        "src_twc = Pipeline([\n",
        "                ('transformer', NumberTransformer(key='src_twc')),\n",
        "                ])\n",
        "src_twan = Pipeline([\n",
        "                ('transformer', NumberTransformer(key='src_twan')),\n",
        "                ])\n",
        "src_twi = Pipeline([\n",
        "                ('transformer', NumberTransformer(key='src_twi')),\n",
        "                ])\n",
        "is_quote_True = Pipeline([\n",
        "                ('transformer', NumberTransformer(key='is_quote_True')),\n",
        "                ])\n",
        "verified_True = Pipeline([\n",
        "                ('transformer', NumberTransformer(key='verified_True')),\n",
        "                ])\n",
        "\n",
        "\n",
        "# combine all of the features, text and numeric together\n",
        "features = FeatureUnion([('created_at' ,created_at)\n",
        ",('text',text)\n",
        ",('favourites_count',favourites_count)\n",
        ",('retweet_count',retweet_count)\n",
        ",('followers_count',followers_count)\n",
        ",('friends_count',friends_count)\n",
        ",('account_created_at',account_created_at)\n",
        ",('src_tms',src_tms)\n",
        ",('src_twa',src_twa)\n",
        ",('src_twc',src_twc)\n",
        ",('src_twan',src_twan)\n",
        ",('src_twi',src_twi)\n",
        ",('is_quote_True',is_quote_True)\n",
        ",('verified_True',verified_True)])\n",
        "\n",
        "\n",
        "\n",
        "# create the classfier from RF\n",
        "clf = RandomForestClassifier()\n",
        "\n",
        "# unite the features and classfier together\n",
        "pipe = Pipeline([('features', features),\n",
        "                 ('clf', clf)\n",
        "                 ])\n"
      ],
      "execution_count": 10,
      "outputs": []
    },
    {
      "cell_type": "markdown",
      "metadata": {
        "id": "QFmg8nKygrPT",
        "colab_type": "text"
      },
      "source": [
        "# Spiliting train and Test"
      ]
    },
    {
      "cell_type": "code",
      "metadata": {
        "id": "oe0DU_5tgrPU",
        "colab_type": "code",
        "colab": {}
      },
      "source": [
        "# split the data into train and test\n",
        "# isolate the features from the target field\n",
        "text_numeric_features = ['created_at','text','favourites_count','retweet_count','followers_count','friends_count','account_created_at','src_tms','src_twa','src_twc','src_twan','src_twi','is_quote_True','verified_True']\n",
        "\n",
        "y = 'is_rumor'\n",
        "\n",
        "X_train, X_test, y_train, y_test = train_test_split(df_t[text_numeric_features], df_t[y], \n",
        "                                                    test_size=0.30,\n",
        "                                                    random_state=42,stratify=df_t[y]\n",
        "                                                   )"
      ],
      "execution_count": 11,
      "outputs": []
    },
    {
      "cell_type": "markdown",
      "metadata": {
        "id": "e0NJv5SUgrPl",
        "colab_type": "text"
      },
      "source": [
        "# Model train"
      ]
    },
    {
      "cell_type": "code",
      "metadata": {
        "scrolled": false,
        "id": "MdKXyy8_grPm",
        "colab_type": "code",
        "colab": {
          "base_uri": "https://localhost:8080/",
          "height": 68
        },
        "outputId": "4654a47c-89f0-46a0-bd6a-48304f16948a"
      },
      "source": [
        "#parameter grid to scan through\n",
        "param_grid = {\n",
        "     'clf__n_estimators': [10, 20, 30, 40, 50, 100]\n",
        "\n",
        "}\n",
        "\n",
        "\n",
        "\n",
        "grid_search = GridSearchCV(estimator = pipe, param_grid = param_grid, \n",
        "                          cv = 2, n_jobs = 1, verbose = 1, return_train_score=True)\n",
        "\n",
        "grid_search.fit(X_train, y_train)\n",
        "\n",
        "grid_search.cv_results_['mean_train_score']\n",
        "\n",
        "grid_search.cv_results_['mean_test_score']\n",
        "\n",
        "grid_search.best_params_\n",
        "\n",
        "clf_test = grid_search.best_estimator_\n",
        "\n",
        "# test stats\n",
        "preds = clf_test.predict(X_test)"
      ],
      "execution_count": 13,
      "outputs": [
        {
          "output_type": "stream",
          "text": [
            "Fitting 2 folds for each of 6 candidates, totalling 12 fits\n"
          ],
          "name": "stdout"
        },
        {
          "output_type": "stream",
          "text": [
            "[Parallel(n_jobs=1)]: Using backend SequentialBackend with 1 concurrent workers.\n",
            "[Parallel(n_jobs=1)]: Done  12 out of  12 | elapsed:    1.8s finished\n"
          ],
          "name": "stderr"
        }
      ]
    },
    {
      "cell_type": "markdown",
      "metadata": {
        "id": "slnQlY6SgrPr",
        "colab_type": "text"
      },
      "source": [
        "# Saving Model to file"
      ]
    },
    {
      "cell_type": "code",
      "metadata": {
        "id": "9fA0Pmk-grPr",
        "colab_type": "code",
        "colab": {}
      },
      "source": [
        "with open(\"RF_text_binary.pkl\", 'wb') as f:  \n",
        "    pickle.dump(clf_test, f)"
      ],
      "execution_count": 14,
      "outputs": []
    },
    {
      "cell_type": "markdown",
      "metadata": {
        "id": "ybA-YHrBgrPw",
        "colab_type": "text"
      },
      "source": [
        "# Loading Model from file"
      ]
    },
    {
      "cell_type": "code",
      "metadata": {
        "id": "LIR29VpigrPw",
        "colab_type": "code",
        "colab": {}
      },
      "source": [
        "# Load the Model back from file\n",
        "with open(\"RF_text_binary.pkl\", 'rb') as f:  \n",
        "    tweet_classification_model = pickle.load(f)"
      ],
      "execution_count": 15,
      "outputs": []
    },
    {
      "cell_type": "markdown",
      "metadata": {
        "id": "8a6QThj4grP1",
        "colab_type": "text"
      },
      "source": [
        "# Prediction Whether a given tweet is rumor or not\n",
        "\n"
      ]
    },
    {
      "cell_type": "code",
      "metadata": {
        "id": "e6oqjdEkgrP2",
        "colab_type": "code",
        "colab": {
          "base_uri": "https://localhost:8080/",
          "height": 170
        },
        "outputId": "f1d75360-30ce-49f6-d33e-e8fd91046c0d"
      },
      "source": [
        "pred = tweet_classification_model.predict(X_test)\n",
        "print(metrics.classification_report(y_test, pred))"
      ],
      "execution_count": 16,
      "outputs": [
        {
          "output_type": "stream",
          "text": [
            "              precision    recall  f1-score   support\n",
            "\n",
            "           0       0.91      0.96      0.93        72\n",
            "           1       0.94      0.87      0.90        53\n",
            "\n",
            "    accuracy                           0.92       125\n",
            "   macro avg       0.92      0.91      0.92       125\n",
            "weighted avg       0.92      0.92      0.92       125\n",
            "\n"
          ],
          "name": "stdout"
        }
      ]
    },
    {
      "cell_type": "code",
      "metadata": {
        "id": "ZJ7_hs8V8z4v",
        "colab_type": "code",
        "colab": {
          "base_uri": "https://localhost:8080/",
          "height": 362
        },
        "outputId": "05e06894-7e35-4229-98f9-125e7f719939"
      },
      "source": [
        "class_names =  ['TRUE','FALSE']\n",
        "\n",
        "\n",
        "import matplotlib.pyplot as plt\n",
        "\n",
        "def plot_confusion_matrix(cm, classes,\n",
        "                          normalize=False,\n",
        "                          title='Confusion matrix',\n",
        "                          cmap=plt.cm.Blues):\n",
        "    \"\"\"\n",
        "    This function prints and plots the confusion matrix.\n",
        "    Normalization can be applied by setting `normalize=True`.\n",
        "    \"\"\"\n",
        "    if normalize:\n",
        "        cm = cm.astype('float') / cm.sum(axis=1)[:, np.newaxis]\n",
        "        print(\"Normalized confusion matrix\")\n",
        "    else:\n",
        "        print('Confusion matrix, without normalization')\n",
        "\n",
        "    print(cm)\n",
        "\n",
        "    plt.imshow(cm, interpolation='nearest', cmap=cmap)\n",
        "    plt.title(title)\n",
        "    plt.colorbar()\n",
        "    tick_marks = np.arange(len(classes))\n",
        "    plt.xticks(tick_marks, classes, rotation=45)\n",
        "    plt.yticks(tick_marks, classes)\n",
        "\n",
        "    fmt = '.2f' if normalize else 'd'\n",
        "    thresh = cm.max() / 2.\n",
        "    for i, j in itertools.product(range(cm.shape[0]), range(cm.shape[1])):\n",
        "        plt.text(j, i, format(cm[i, j], fmt),\n",
        "                 horizontalalignment=\"center\",\n",
        "                 color=\"white\" if cm[i, j] > thresh else \"black\")\n",
        "\n",
        "    plt.tight_layout()\n",
        "    plt.ylabel('True label')\n",
        "    plt.xlabel('Predicted label')\n",
        "\n",
        "# Compute confusion matrix\n",
        "cnf_matrix = metrics.confusion_matrix(y_test, pred)\n",
        "np.set_printoptions(precision=2)\n",
        "\n",
        "\n",
        "# Plot normalized confusion matrix\n",
        "plt.figure()\n",
        "plot_confusion_matrix(cnf_matrix, classes=class_names, normalize=True,\n",
        "                      title='Normalized confusion matrix')\n",
        "\n",
        "plt.show()"
      ],
      "execution_count": 17,
      "outputs": [
        {
          "output_type": "stream",
          "text": [
            "Normalized confusion matrix\n",
            "[[0.96 0.04]\n",
            " [0.13 0.87]]\n"
          ],
          "name": "stdout"
        },
        {
          "output_type": "display_data",
          "data": {
            "image/png": "[encoded data removed]",
            "text/plain": [
              "<Figure size 432x288 with 2 Axes>"
            ]
          },
          "metadata": {
            "tags": [],
            "needs_background": "light"
          }
        }
      ]
    },
    {
      "cell_type": "code",
      "metadata": {
        "id": "_neYYnPYGntY",
        "colab_type": "code",
        "colab": {
          "base_uri": "https://localhost:8080/",
          "height": 360
        },
        "outputId": "ef10690c-c463-42a3-d9dc-94f2f31f4f8c"
      },
      "source": [
        "df = pd.read_csv(path2,encoding= 'unicode_escape')\n",
        "dfc = df.corr()\n",
        "plt.figure()\n",
        "print(Back.CYAN + '\\033[1m' +\"                            Correlation                            \")\n",
        "ax = sns.heatmap(dfc)"
      ],
      "execution_count": 19,
      "outputs": [
        {
          "output_type": "stream",
          "text": [
            "\u001b[46m\u001b[1m                            Correlation                            \n"
          ],
          "name": "stdout"
        },
        {
          "output_type": "display_data",
          "data": {
            "image/png": "[encoded data removed]",
            "text/plain": [
              "<Figure size 432x288 with 2 Axes>"
            ]
          },
          "metadata": {
            "tags": [],
            "needs_background": "light"
          }
        }
      ]
    },
    {
      "cell_type": "code",
      "metadata": {
        "id": "O1eXiJBqGvHn",
        "colab_type": "code",
        "colab": {}
      },
      "source": [
        ""
      ],
      "execution_count": null,
      "outputs": []
    }
  ]
}